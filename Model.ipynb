{
 "cells": [
  {
   "cell_type": "markdown",
   "id": "54c782a2",
   "metadata": {},
   "source": [
    "# AI-Powered Protein-Protein Interaction Prediction using GNN and STRING Dataset\n",
    "This notebook demonstrates how to use Graph Neural Networks (GNNs) for predicting protein-protein interactions using the STRING dataset."
   ]
  },
  {
   "cell_type": "code",
   "execution_count": 49,
   "id": "46588509",
   "metadata": {},
   "outputs": [],
   "source": [
    "import pandas as pd\n",
    "import torch\n",
    "import torch.nn as nn\n",
    "from torch_geometric.data import Data, DataLoader\n",
    "from torch_geometric.nn import GCNConv\n",
    "import torch.nn.functional as F\n",
    "from sklearn.metrics import accuracy_score\n",
    "from sklearn.model_selection import train_test_split\n",
    "from sklearn.preprocessing import MinMaxScaler\n"
   ]
  },
  {
   "cell_type": "code",
   "execution_count": 50,
   "id": "35562e70",
   "metadata": {},
   "outputs": [],
   "source": [
    "df = pd.read_csv('STRING.csv')\n",
    "scaler = MinMaxScaler()\n",
    "df['combined_score'] = scaler.fit_transform(df[['combined_score']])"
   ]
  },
  {
   "cell_type": "code",
   "execution_count": 51,
   "id": "237ca960",
   "metadata": {},
   "outputs": [],
   "source": [
    "protein1 = df['protein1'].values\n",
    "protein2 = df['protein2'].values\n",
    "interactions = df['combined_score'].values"
   ]
  },
  {
   "cell_type": "code",
   "execution_count": 52,
   "id": "10968c63",
   "metadata": {},
   "outputs": [],
   "source": [
    "protein_to_idx = {protein: idx for idx, protein in enumerate(set(protein1).union(set(protein2)))}"
   ]
  },
  {
   "cell_type": "code",
   "execution_count": 53,
   "id": "e088b64c",
   "metadata": {},
   "outputs": [],
   "source": [
    "protein1_idx = [protein_to_idx[p] for p in protein1]\n",
    "protein2_idx = [protein_to_idx[p] for p in protein2]"
   ]
  },
  {
   "cell_type": "code",
   "execution_count": 54,
   "id": "08472ae6",
   "metadata": {},
   "outputs": [],
   "source": [
    "edge_index = torch.tensor([protein1_idx, protein2_idx], dtype=torch.long)"
   ]
  },
  {
   "cell_type": "code",
   "execution_count": 55,
   "id": "16e0051c",
   "metadata": {},
   "outputs": [],
   "source": [
    "num_proteins = len(protein_to_idx)"
   ]
  },
  {
   "cell_type": "code",
   "execution_count": 56,
   "id": "98689152",
   "metadata": {},
   "outputs": [],
   "source": [
    "x = torch.eye(num_proteins)"
   ]
  },
  {
   "cell_type": "code",
   "execution_count": 57,
   "id": "adc638b7",
   "metadata": {},
   "outputs": [],
   "source": [
    "y = torch.tensor(interactions, dtype=torch.float).unsqueeze(1)"
   ]
  },
  {
   "cell_type": "code",
   "execution_count": 58,
   "id": "9997e525",
   "metadata": {},
   "outputs": [
    {
     "name": "stdout",
     "output_type": "stream",
     "text": [
      "Data(x=[19484, 19484], edge_index=[2, 1048575], y=[1048575, 1])\n"
     ]
    }
   ],
   "source": [
    "data = Data(x=x, edge_index=edge_index, y=y)\n",
    "print(data)"
   ]
  },
  {
   "cell_type": "code",
   "execution_count": 59,
   "id": "ce923eec",
   "metadata": {},
   "outputs": [],
   "source": [
    "train_idx, test_idx = train_test_split(range(edge_index.shape[1]), test_size=0.2, random_state=42)"
   ]
  },
  {
   "cell_type": "code",
   "execution_count": 60,
   "id": "ad0200dc",
   "metadata": {},
   "outputs": [],
   "source": [
    "train_edge_index = edge_index[:, train_idx]\n",
    "test_edge_index = edge_index[:, test_idx]"
   ]
  },
  {
   "cell_type": "code",
   "execution_count": 61,
   "id": "73f59428",
   "metadata": {},
   "outputs": [],
   "source": [
    "train_labels = y[train_idx]\n",
    "test_labels = y[test_idx]"
   ]
  },
  {
   "cell_type": "code",
   "execution_count": 62,
   "id": "4df34d80",
   "metadata": {},
   "outputs": [],
   "source": [
    "train_data = Data(x=x, edge_index=train_edge_index, y=train_labels)\n",
    "test_data = Data(x=x, edge_index=test_edge_index, y=test_labels)"
   ]
  },
  {
   "cell_type": "code",
   "execution_count": 63,
   "id": "27e7fd4c",
   "metadata": {},
   "outputs": [
    {
     "name": "stderr",
     "output_type": "stream",
     "text": [
      "C:\\Users\\kisho\\AppData\\Local\\Packages\\PythonSoftwareFoundation.Python.3.12_qbz5n2kfra8p0\\LocalCache\\local-packages\\Python312\\site-packages\\torch_geometric\\deprecation.py:26: UserWarning: 'data.DataLoader' is deprecated, use 'loader.DataLoader' instead\n",
      "  warnings.warn(out)\n"
     ]
    }
   ],
   "source": [
    "train_loader = DataLoader([train_data], batch_size=32, shuffle=True)\n",
    "test_loader = DataLoader([test_data], batch_size=32, shuffle=False)"
   ]
  },
  {
   "cell_type": "code",
   "execution_count": 64,
   "id": "e063fb14",
   "metadata": {},
   "outputs": [],
   "source": [
    "class GNN(nn.Module):\n",
    "    def __init__(self, num_nodes, embedding_dim, hidden_dim, output_dim):\n",
    "        super(GNN, self).__init__()\n",
    "        self.embedding = nn.Embedding(num_nodes, embedding_dim)\n",
    "        self.conv1 = GCNConv(embedding_dim, hidden_dim)\n",
    "        self.conv2 = GCNConv(hidden_dim, output_dim)\n",
    "        self.fc = nn.Linear(output_dim, 1)  # 1 for regression output\n",
    "\n",
    "    def forward(self, data):\n",
    "        x, edge_index = data.x, data.edge_index\n",
    "        x = self.embedding(torch.arange(x.size(0), device=x.device))\n",
    "        x = self.conv1(x, edge_index)\n",
    "        x = torch.relu(x)\n",
    "        x = self.conv2(x, edge_index)\n",
    "        edge_predictions = self.fc((x[edge_index[0]] + x[edge_index[1]]) / 2)\n",
    "        return edge_predictions\n"
   ]
  },
  {
   "cell_type": "code",
   "execution_count": 65,
   "id": "a0e1d350",
   "metadata": {},
   "outputs": [],
   "source": [
    "model = GNN(num_nodes=19484, embedding_dim=128,hidden_dim=64, output_dim=32)\n",
    "optimizer = torch.optim.Adam(model.parameters(), lr=0.01)\n",
    "criterion = nn.MSELoss()"
   ]
  },
  {
   "cell_type": "code",
   "execution_count": 66,
   "id": "45949b21",
   "metadata": {},
   "outputs": [],
   "source": [
    "def train():\n",
    "    model.train()\n",
    "    for data in train_loader:\n",
    "        optimizer.zero_grad()\n",
    "        out = model(data)\n",
    "        loss = criterion(out, data.y)\n",
    "        loss.backward()\n",
    "        optimizer.step()\n",
    "    return loss.item()\n"
   ]
  },
  {
   "cell_type": "code",
   "execution_count": 67,
   "id": "ebb9c5e3",
   "metadata": {},
   "outputs": [],
   "source": [
    "def evaluate(loader):\n",
    "    threshold = 0.5\n",
    "    model.eval()\n",
    "    all_preds = []\n",
    "    all_labels = []\n",
    "    for data in loader:\n",
    "        with torch.no_grad():\n",
    "            out = model(data)\n",
    "            all_preds.append(out)\n",
    "            all_labels.append(data.y)\n",
    "    \n",
    "    preds = torch.cat(all_preds, dim=0).cpu().numpy()\n",
    "    labels = torch.cat(all_labels, dim=0).cpu().numpy()\n",
    "    binary_preds = (preds >= threshold).astype(int)\n",
    "    binary_labels = (labels >= threshold).astype(int)\n",
    "    accuracy = accuracy_score(binary_labels, binary_preds)\n",
    "    return accuracy"
   ]
  },
  {
   "cell_type": "code",
   "execution_count": 68,
   "id": "7ad986bd",
   "metadata": {},
   "outputs": [
    {
     "name": "stdout",
     "output_type": "stream",
     "text": [
      "Epoch: 001, Loss: 0.0388, Train Acc: 0.9397, Val Acc: 0.9400\n",
      "Epoch: 002, Loss: 0.0898, Train Acc: 0.9397, Val Acc: 0.9395\n",
      "Epoch: 003, Loss: 0.0433, Train Acc: 0.9397, Val Acc: 0.9348\n",
      "Epoch: 004, Loss: 0.0349, Train Acc: 0.9397, Val Acc: 0.8883\n",
      "Epoch: 005, Loss: 0.0426, Train Acc: 0.9397, Val Acc: 0.8687\n",
      "Epoch: 006, Loss: 0.0432, Train Acc: 0.9397, Val Acc: 0.9118\n",
      "Epoch: 007, Loss: 0.0385, Train Acc: 0.9397, Val Acc: 0.9316\n",
      "Epoch: 008, Loss: 0.0353, Train Acc: 0.9397, Val Acc: 0.9368\n",
      "Epoch: 009, Loss: 0.0345, Train Acc: 0.9397, Val Acc: 0.9384\n",
      "Epoch: 010, Loss: 0.0351, Train Acc: 0.9397, Val Acc: 0.9388\n",
      "Epoch: 011, Loss: 0.0359, Train Acc: 0.9397, Val Acc: 0.9390\n",
      "Epoch: 012, Loss: 0.0365, Train Acc: 0.9397, Val Acc: 0.9393\n",
      "Epoch: 013, Loss: 0.0367, Train Acc: 0.9397, Val Acc: 0.9396\n",
      "Epoch: 014, Loss: 0.0366, Train Acc: 0.9397, Val Acc: 0.9396\n",
      "Epoch: 015, Loss: 0.0363, Train Acc: 0.9397, Val Acc: 0.9396\n",
      "Epoch: 016, Loss: 0.0359, Train Acc: 0.9397, Val Acc: 0.9395\n",
      "Epoch: 017, Loss: 0.0355, Train Acc: 0.9397, Val Acc: 0.9394\n",
      "Epoch: 018, Loss: 0.0352, Train Acc: 0.9397, Val Acc: 0.9392\n",
      "Epoch: 019, Loss: 0.0349, Train Acc: 0.9397, Val Acc: 0.9390\n",
      "Epoch: 020, Loss: 0.0348, Train Acc: 0.9397, Val Acc: 0.9388\n",
      "Epoch: 021, Loss: 0.0347, Train Acc: 0.9397, Val Acc: 0.9387\n",
      "Epoch: 022, Loss: 0.0348, Train Acc: 0.9397, Val Acc: 0.9386\n",
      "Epoch: 023, Loss: 0.0349, Train Acc: 0.9397, Val Acc: 0.9385\n",
      "Epoch: 024, Loss: 0.0350, Train Acc: 0.9397, Val Acc: 0.9385\n",
      "Epoch: 025, Loss: 0.0351, Train Acc: 0.9397, Val Acc: 0.9386\n",
      "Epoch: 026, Loss: 0.0351, Train Acc: 0.9397, Val Acc: 0.9386\n",
      "Epoch: 027, Loss: 0.0351, Train Acc: 0.9397, Val Acc: 0.9387\n",
      "Epoch: 028, Loss: 0.0350, Train Acc: 0.9397, Val Acc: 0.9388\n",
      "Epoch: 029, Loss: 0.0349, Train Acc: 0.9397, Val Acc: 0.9389\n",
      "Epoch: 030, Loss: 0.0348, Train Acc: 0.9397, Val Acc: 0.9391\n",
      "Epoch: 031, Loss: 0.0348, Train Acc: 0.9397, Val Acc: 0.9392\n",
      "Epoch: 032, Loss: 0.0347, Train Acc: 0.9397, Val Acc: 0.9393\n",
      "Epoch: 033, Loss: 0.0347, Train Acc: 0.9397, Val Acc: 0.9394\n",
      "Epoch: 034, Loss: 0.0347, Train Acc: 0.9397, Val Acc: 0.9395\n",
      "Epoch: 035, Loss: 0.0347, Train Acc: 0.9397, Val Acc: 0.9396\n",
      "Epoch: 036, Loss: 0.0347, Train Acc: 0.9397, Val Acc: 0.9397\n",
      "Epoch: 037, Loss: 0.0347, Train Acc: 0.9397, Val Acc: 0.9397\n",
      "Epoch: 038, Loss: 0.0347, Train Acc: 0.9397, Val Acc: 0.9397\n",
      "Epoch: 039, Loss: 0.0347, Train Acc: 0.9397, Val Acc: 0.9396\n",
      "Epoch: 040, Loss: 0.0347, Train Acc: 0.9397, Val Acc: 0.9396\n",
      "Epoch: 041, Loss: 0.0347, Train Acc: 0.9397, Val Acc: 0.9396\n",
      "Epoch: 042, Loss: 0.0346, Train Acc: 0.9397, Val Acc: 0.9394\n",
      "Epoch: 043, Loss: 0.0346, Train Acc: 0.9397, Val Acc: 0.9393\n",
      "Epoch: 044, Loss: 0.0346, Train Acc: 0.9397, Val Acc: 0.9391\n",
      "Epoch: 045, Loss: 0.0345, Train Acc: 0.9397, Val Acc: 0.9389\n",
      "Epoch: 046, Loss: 0.0345, Train Acc: 0.9397, Val Acc: 0.9388\n",
      "Epoch: 047, Loss: 0.0345, Train Acc: 0.9397, Val Acc: 0.9388\n",
      "Epoch: 048, Loss: 0.0345, Train Acc: 0.9397, Val Acc: 0.9388\n",
      "Epoch: 049, Loss: 0.0345, Train Acc: 0.9397, Val Acc: 0.9388\n",
      "Epoch: 050, Loss: 0.0344, Train Acc: 0.9397, Val Acc: 0.9387\n",
      "Epoch: 051, Loss: 0.0344, Train Acc: 0.9397, Val Acc: 0.9387\n",
      "Epoch: 052, Loss: 0.0344, Train Acc: 0.9397, Val Acc: 0.9387\n",
      "Epoch: 053, Loss: 0.0344, Train Acc: 0.9397, Val Acc: 0.9387\n",
      "Epoch: 054, Loss: 0.0343, Train Acc: 0.9397, Val Acc: 0.9387\n",
      "Epoch: 055, Loss: 0.0343, Train Acc: 0.9397, Val Acc: 0.9387\n",
      "Epoch: 056, Loss: 0.0342, Train Acc: 0.9397, Val Acc: 0.9387\n",
      "Epoch: 057, Loss: 0.0342, Train Acc: 0.9397, Val Acc: 0.9387\n",
      "Epoch: 058, Loss: 0.0341, Train Acc: 0.9397, Val Acc: 0.9387\n",
      "Epoch: 059, Loss: 0.0341, Train Acc: 0.9397, Val Acc: 0.9387\n",
      "Epoch: 060, Loss: 0.0341, Train Acc: 0.9397, Val Acc: 0.9387\n",
      "Epoch: 061, Loss: 0.0340, Train Acc: 0.9397, Val Acc: 0.9387\n",
      "Epoch: 062, Loss: 0.0340, Train Acc: 0.9397, Val Acc: 0.9387\n",
      "Epoch: 063, Loss: 0.0339, Train Acc: 0.9397, Val Acc: 0.9386\n",
      "Epoch: 064, Loss: 0.0339, Train Acc: 0.9397, Val Acc: 0.9386\n",
      "Epoch: 065, Loss: 0.0339, Train Acc: 0.9397, Val Acc: 0.9385\n",
      "Epoch: 066, Loss: 0.0338, Train Acc: 0.9397, Val Acc: 0.9385\n",
      "Epoch: 067, Loss: 0.0338, Train Acc: 0.9397, Val Acc: 0.9385\n",
      "Epoch: 068, Loss: 0.0338, Train Acc: 0.9397, Val Acc: 0.9385\n",
      "Epoch: 069, Loss: 0.0338, Train Acc: 0.9397, Val Acc: 0.9385\n",
      "Epoch: 070, Loss: 0.0337, Train Acc: 0.9397, Val Acc: 0.9385\n",
      "Epoch: 071, Loss: 0.0337, Train Acc: 0.9397, Val Acc: 0.9385\n",
      "Epoch: 072, Loss: 0.0337, Train Acc: 0.9397, Val Acc: 0.9385\n",
      "Epoch: 073, Loss: 0.0337, Train Acc: 0.9397, Val Acc: 0.9385\n",
      "Epoch: 074, Loss: 0.0337, Train Acc: 0.9397, Val Acc: 0.9384\n",
      "Epoch: 075, Loss: 0.0336, Train Acc: 0.9397, Val Acc: 0.9384\n",
      "Epoch: 076, Loss: 0.0336, Train Acc: 0.9397, Val Acc: 0.9384\n",
      "Epoch: 077, Loss: 0.0336, Train Acc: 0.9397, Val Acc: 0.9384\n",
      "Epoch: 078, Loss: 0.0336, Train Acc: 0.9397, Val Acc: 0.9384\n",
      "Epoch: 079, Loss: 0.0336, Train Acc: 0.9397, Val Acc: 0.9383\n",
      "Epoch: 080, Loss: 0.0336, Train Acc: 0.9397, Val Acc: 0.9382\n",
      "Epoch: 081, Loss: 0.0335, Train Acc: 0.9397, Val Acc: 0.9382\n",
      "Epoch: 082, Loss: 0.0335, Train Acc: 0.9397, Val Acc: 0.9382\n",
      "Epoch: 083, Loss: 0.0335, Train Acc: 0.9397, Val Acc: 0.9384\n",
      "Epoch: 084, Loss: 0.0335, Train Acc: 0.9397, Val Acc: 0.9385\n",
      "Epoch: 085, Loss: 0.0335, Train Acc: 0.9397, Val Acc: 0.9384\n",
      "Epoch: 086, Loss: 0.0334, Train Acc: 0.9397, Val Acc: 0.9384\n",
      "Epoch: 087, Loss: 0.0334, Train Acc: 0.9397, Val Acc: 0.9384\n",
      "Epoch: 088, Loss: 0.0334, Train Acc: 0.9397, Val Acc: 0.9384\n",
      "Epoch: 089, Loss: 0.0334, Train Acc: 0.9397, Val Acc: 0.9384\n",
      "Epoch: 090, Loss: 0.0334, Train Acc: 0.9397, Val Acc: 0.9383\n",
      "Epoch: 091, Loss: 0.0334, Train Acc: 0.9397, Val Acc: 0.9382\n",
      "Epoch: 092, Loss: 0.0334, Train Acc: 0.9397, Val Acc: 0.9381\n",
      "Epoch: 093, Loss: 0.0334, Train Acc: 0.9397, Val Acc: 0.9381\n",
      "Epoch: 094, Loss: 0.0333, Train Acc: 0.9397, Val Acc: 0.9379\n",
      "Epoch: 095, Loss: 0.0333, Train Acc: 0.9397, Val Acc: 0.9377\n",
      "Epoch: 096, Loss: 0.0333, Train Acc: 0.9397, Val Acc: 0.9375\n",
      "Epoch: 097, Loss: 0.0333, Train Acc: 0.9397, Val Acc: 0.9374\n",
      "Epoch: 098, Loss: 0.0333, Train Acc: 0.9397, Val Acc: 0.9374\n",
      "Epoch: 099, Loss: 0.0333, Train Acc: 0.9397, Val Acc: 0.9372\n",
      "Epoch: 100, Loss: 0.0333, Train Acc: 0.9397, Val Acc: 0.9371\n"
     ]
    }
   ],
   "source": [
    "best_val_acc = 0\n",
    "for epoch in range(1, 101):\n",
    "    loss = train()\n",
    "    train_acc = evaluate(train_loader)\n",
    "    val_acc = evaluate(test_loader)\n",
    "    print(f'Epoch: {epoch:03d}, Loss: {loss:.4f}, Train Acc: {train_acc:.4f}, Val Acc: {val_acc:.4f}')\n",
    "    if val_acc > best_val_acc:\n",
    "        best_val_acc = val_acc\n",
    "        torch.save(model.state_dict(), 'best_model.pth')"
   ]
  },
  {
   "cell_type": "code",
   "execution_count": 69,
   "id": "072afd59",
   "metadata": {},
   "outputs": [
    {
     "name": "stdout",
     "output_type": "stream",
     "text": [
      "Final Model Evaluation - Accuracy: 0.9371\n"
     ]
    }
   ],
   "source": [
    "final_accuracy = evaluate(test_loader)\n",
    "print(f\"Final Model Evaluation - Accuracy: {final_accuracy:.4f}\")"
   ]
  },
  {
   "cell_type": "code",
   "execution_count": 70,
   "id": "0bf4e7bc",
   "metadata": {},
   "outputs": [
    {
     "name": "stderr",
     "output_type": "stream",
     "text": [
      "C:\\Users\\kisho\\AppData\\Local\\Temp\\ipykernel_27168\\1833195287.py:1: FutureWarning: You are using `torch.load` with `weights_only=False` (the current default value), which uses the default pickle module implicitly. It is possible to construct malicious pickle data which will execute arbitrary code during unpickling (See https://github.com/pytorch/pytorch/blob/main/SECURITY.md#untrusted-models for more details). In a future release, the default value for `weights_only` will be flipped to `True`. This limits the functions that could be executed during unpickling. Arbitrary objects will no longer be allowed to be loaded via this mode unless they are explicitly allowlisted by the user via `torch.serialization.add_safe_globals`. We recommend you start setting `weights_only=True` for any use case where you don't have full control of the loaded file. Please open an issue on GitHub for any issues related to this experimental feature.\n",
      "  model.load_state_dict(torch.load(\"best_model.pth\"))\n"
     ]
    },
    {
     "data": {
      "text/plain": [
       "<All keys matched successfully>"
      ]
     },
     "execution_count": 70,
     "metadata": {},
     "output_type": "execute_result"
    }
   ],
   "source": [
    "model.load_state_dict(torch.load(\"best_model.pth\"))"
   ]
  },
  {
   "cell_type": "code",
   "execution_count": 71,
   "id": "3ca9e68e",
   "metadata": {},
   "outputs": [
    {
     "name": "stdout",
     "output_type": "stream",
     "text": [
      "Epoch: 001, Loss: 0.0898, Train Acc: 0.9397, Val Acc: 0.9389\n",
      "Epoch: 002, Loss: 0.0378, Train Acc: 0.9397, Val Acc: 0.8122\n",
      "Epoch: 003, Loss: 0.0465, Train Acc: 0.9397, Val Acc: 0.5936\n",
      "Epoch: 004, Loss: 0.0536, Train Acc: 0.9397, Val Acc: 0.8729\n",
      "Epoch: 005, Loss: 0.0400, Train Acc: 0.9397, Val Acc: 0.9323\n",
      "Epoch: 006, Loss: 0.0347, Train Acc: 0.9397, Val Acc: 0.9381\n",
      "Epoch: 007, Loss: 0.0355, Train Acc: 0.9397, Val Acc: 0.9388\n",
      "Epoch: 008, Loss: 0.0371, Train Acc: 0.9397, Val Acc: 0.9396\n",
      "Epoch: 009, Loss: 0.0379, Train Acc: 0.9397, Val Acc: 0.9400\n",
      "Epoch: 010, Loss: 0.0378, Train Acc: 0.9397, Val Acc: 0.9400\n",
      "Epoch: 011, Loss: 0.0372, Train Acc: 0.9397, Val Acc: 0.9400\n",
      "Epoch: 012, Loss: 0.0363, Train Acc: 0.9397, Val Acc: 0.9400\n",
      "Epoch: 013, Loss: 0.0355, Train Acc: 0.9397, Val Acc: 0.9400\n",
      "Epoch: 014, Loss: 0.0349, Train Acc: 0.9397, Val Acc: 0.9398\n",
      "Epoch: 015, Loss: 0.0347, Train Acc: 0.9397, Val Acc: 0.9393\n",
      "Epoch: 016, Loss: 0.0350, Train Acc: 0.9397, Val Acc: 0.9391\n",
      "Epoch: 017, Loss: 0.0355, Train Acc: 0.9397, Val Acc: 0.9392\n",
      "Epoch: 018, Loss: 0.0356, Train Acc: 0.9397, Val Acc: 0.9396\n",
      "Epoch: 019, Loss: 0.0353, Train Acc: 0.9397, Val Acc: 0.9399\n",
      "Epoch: 020, Loss: 0.0350, Train Acc: 0.9397, Val Acc: 0.9400\n",
      "Epoch: 021, Loss: 0.0348, Train Acc: 0.9397, Val Acc: 0.9400\n",
      "Epoch: 022, Loss: 0.0347, Train Acc: 0.9397, Val Acc: 0.9401\n",
      "Epoch: 023, Loss: 0.0348, Train Acc: 0.9397, Val Acc: 0.9401\n",
      "Epoch: 024, Loss: 0.0348, Train Acc: 0.9397, Val Acc: 0.9401\n",
      "Epoch: 025, Loss: 0.0349, Train Acc: 0.9397, Val Acc: 0.9401\n",
      "Epoch: 026, Loss: 0.0349, Train Acc: 0.9397, Val Acc: 0.9401\n",
      "Epoch: 027, Loss: 0.0349, Train Acc: 0.9397, Val Acc: 0.9401\n",
      "Epoch: 028, Loss: 0.0349, Train Acc: 0.9397, Val Acc: 0.9401\n",
      "Epoch: 029, Loss: 0.0348, Train Acc: 0.9397, Val Acc: 0.9401\n",
      "Epoch: 030, Loss: 0.0348, Train Acc: 0.9397, Val Acc: 0.9401\n",
      "Epoch: 031, Loss: 0.0347, Train Acc: 0.9397, Val Acc: 0.9401\n",
      "Epoch: 032, Loss: 0.0347, Train Acc: 0.9397, Val Acc: 0.9401\n",
      "Epoch: 033, Loss: 0.0347, Train Acc: 0.9397, Val Acc: 0.9401\n",
      "Epoch: 034, Loss: 0.0347, Train Acc: 0.9397, Val Acc: 0.9401\n",
      "Epoch: 035, Loss: 0.0347, Train Acc: 0.9397, Val Acc: 0.9401\n",
      "Epoch: 036, Loss: 0.0347, Train Acc: 0.9397, Val Acc: 0.9400\n",
      "Epoch: 037, Loss: 0.0347, Train Acc: 0.9397, Val Acc: 0.9400\n",
      "Epoch: 038, Loss: 0.0347, Train Acc: 0.9397, Val Acc: 0.9400\n",
      "Epoch: 039, Loss: 0.0347, Train Acc: 0.9397, Val Acc: 0.9400\n",
      "Epoch: 040, Loss: 0.0346, Train Acc: 0.9397, Val Acc: 0.9400\n",
      "Epoch: 041, Loss: 0.0346, Train Acc: 0.9397, Val Acc: 0.9400\n",
      "Epoch: 042, Loss: 0.0345, Train Acc: 0.9397, Val Acc: 0.9400\n",
      "Epoch: 043, Loss: 0.0345, Train Acc: 0.9397, Val Acc: 0.9400\n",
      "Epoch: 044, Loss: 0.0345, Train Acc: 0.9397, Val Acc: 0.9400\n",
      "Epoch: 045, Loss: 0.0344, Train Acc: 0.9397, Val Acc: 0.9400\n",
      "Epoch: 046, Loss: 0.0344, Train Acc: 0.9397, Val Acc: 0.9400\n",
      "Epoch: 047, Loss: 0.0343, Train Acc: 0.9397, Val Acc: 0.9400\n",
      "Epoch: 048, Loss: 0.0343, Train Acc: 0.9397, Val Acc: 0.9400\n",
      "Epoch: 049, Loss: 0.0342, Train Acc: 0.9397, Val Acc: 0.9400\n",
      "Epoch: 050, Loss: 0.0342, Train Acc: 0.9397, Val Acc: 0.9399\n",
      "Epoch: 051, Loss: 0.0341, Train Acc: 0.9397, Val Acc: 0.9399\n",
      "Epoch: 052, Loss: 0.0341, Train Acc: 0.9397, Val Acc: 0.9399\n",
      "Epoch: 053, Loss: 0.0340, Train Acc: 0.9397, Val Acc: 0.9399\n",
      "Epoch: 054, Loss: 0.0340, Train Acc: 0.9397, Val Acc: 0.9399\n",
      "Epoch: 055, Loss: 0.0339, Train Acc: 0.9397, Val Acc: 0.9398\n",
      "Epoch: 056, Loss: 0.0339, Train Acc: 0.9397, Val Acc: 0.9398\n",
      "Epoch: 057, Loss: 0.0338, Train Acc: 0.9397, Val Acc: 0.9398\n",
      "Epoch: 058, Loss: 0.0338, Train Acc: 0.9397, Val Acc: 0.9397\n",
      "Epoch: 059, Loss: 0.0338, Train Acc: 0.9397, Val Acc: 0.9397\n",
      "Epoch: 060, Loss: 0.0337, Train Acc: 0.9397, Val Acc: 0.9397\n",
      "Epoch: 061, Loss: 0.0337, Train Acc: 0.9397, Val Acc: 0.9397\n",
      "Epoch: 062, Loss: 0.0337, Train Acc: 0.9397, Val Acc: 0.9396\n",
      "Epoch: 063, Loss: 0.0337, Train Acc: 0.9397, Val Acc: 0.9396\n",
      "Epoch: 064, Loss: 0.0337, Train Acc: 0.9397, Val Acc: 0.9396\n",
      "Epoch: 065, Loss: 0.0337, Train Acc: 0.9397, Val Acc: 0.9395\n",
      "Epoch: 066, Loss: 0.0336, Train Acc: 0.9397, Val Acc: 0.9395\n",
      "Epoch: 067, Loss: 0.0336, Train Acc: 0.9397, Val Acc: 0.9394\n",
      "Epoch: 068, Loss: 0.0336, Train Acc: 0.9397, Val Acc: 0.9394\n",
      "Epoch: 069, Loss: 0.0336, Train Acc: 0.9397, Val Acc: 0.9394\n",
      "Epoch: 070, Loss: 0.0336, Train Acc: 0.9397, Val Acc: 0.9394\n",
      "Epoch: 071, Loss: 0.0336, Train Acc: 0.9397, Val Acc: 0.9394\n",
      "Epoch: 072, Loss: 0.0336, Train Acc: 0.9397, Val Acc: 0.9394\n",
      "Epoch: 073, Loss: 0.0336, Train Acc: 0.9397, Val Acc: 0.9394\n",
      "Epoch: 074, Loss: 0.0335, Train Acc: 0.9397, Val Acc: 0.9393\n",
      "Epoch: 075, Loss: 0.0335, Train Acc: 0.9397, Val Acc: 0.9393\n",
      "Epoch: 076, Loss: 0.0335, Train Acc: 0.9397, Val Acc: 0.9393\n",
      "Epoch: 077, Loss: 0.0335, Train Acc: 0.9397, Val Acc: 0.9393\n",
      "Epoch: 078, Loss: 0.0335, Train Acc: 0.9397, Val Acc: 0.9393\n",
      "Epoch: 079, Loss: 0.0334, Train Acc: 0.9397, Val Acc: 0.9393\n",
      "Epoch: 080, Loss: 0.0334, Train Acc: 0.9397, Val Acc: 0.9393\n",
      "Epoch: 081, Loss: 0.0334, Train Acc: 0.9397, Val Acc: 0.9393\n",
      "Epoch: 082, Loss: 0.0334, Train Acc: 0.9397, Val Acc: 0.9393\n",
      "Epoch: 083, Loss: 0.0334, Train Acc: 0.9397, Val Acc: 0.9393\n",
      "Epoch: 084, Loss: 0.0334, Train Acc: 0.9397, Val Acc: 0.9393\n",
      "Epoch: 085, Loss: 0.0334, Train Acc: 0.9397, Val Acc: 0.9393\n",
      "Epoch: 086, Loss: 0.0334, Train Acc: 0.9397, Val Acc: 0.9392\n",
      "Epoch: 087, Loss: 0.0333, Train Acc: 0.9397, Val Acc: 0.9392\n",
      "Epoch: 088, Loss: 0.0333, Train Acc: 0.9397, Val Acc: 0.9392\n",
      "Epoch: 089, Loss: 0.0333, Train Acc: 0.9397, Val Acc: 0.9392\n",
      "Epoch: 090, Loss: 0.0333, Train Acc: 0.9397, Val Acc: 0.9392\n",
      "Epoch: 091, Loss: 0.0333, Train Acc: 0.9397, Val Acc: 0.9392\n",
      "Epoch: 092, Loss: 0.0333, Train Acc: 0.9397, Val Acc: 0.9391\n",
      "Epoch: 093, Loss: 0.0333, Train Acc: 0.9397, Val Acc: 0.9391\n",
      "Epoch: 094, Loss: 0.0332, Train Acc: 0.9397, Val Acc: 0.9390\n",
      "Epoch: 095, Loss: 0.0332, Train Acc: 0.9397, Val Acc: 0.9390\n",
      "Epoch: 096, Loss: 0.0332, Train Acc: 0.9397, Val Acc: 0.9390\n",
      "Epoch: 097, Loss: 0.0332, Train Acc: 0.9397, Val Acc: 0.9390\n",
      "Epoch: 098, Loss: 0.0332, Train Acc: 0.9397, Val Acc: 0.9389\n",
      "Epoch: 099, Loss: 0.0332, Train Acc: 0.9397, Val Acc: 0.9389\n",
      "Epoch: 100, Loss: 0.0332, Train Acc: 0.9397, Val Acc: 0.9388\n"
     ]
    }
   ],
   "source": [
    "for epoch in range(1, 101):\n",
    "    loss = train()\n",
    "    train_acc = evaluate(train_loader)\n",
    "    val_acc = evaluate(test_loader)\n",
    "    print(f'Epoch: {epoch:03d}, Loss: {loss:.4f}, Train Acc: {train_acc:.4f}, Val Acc: {val_acc:.4f}')\n",
    "    if val_acc > best_val_acc:\n",
    "        best_val_acc = val_acc\n",
    "        torch.save(model.state_dict(), 'best_model.pth')"
   ]
  },
  {
   "cell_type": "code",
   "execution_count": 72,
   "id": "f69ce009",
   "metadata": {},
   "outputs": [
    {
     "name": "stdout",
     "output_type": "stream",
     "text": [
      "Final Model Evaluation - Accuracy: 0.9388\n"
     ]
    }
   ],
   "source": [
    "final_accuracy = evaluate(test_loader)\n",
    "print(f\"Final Model Evaluation - Accuracy: {final_accuracy:.4f}\")"
   ]
  },
  {
   "cell_type": "code",
   "execution_count": 75,
   "id": "c1004711",
   "metadata": {},
   "outputs": [
    {
     "name": "stdout",
     "output_type": "stream",
     "text": [
      "Top Interactions (Protein1, Protein2) with Predicted and Actual Values:\n",
      "Proteins: (12330, 15216), Predicted: 0.0989, Actual: 0.0989\n",
      "Proteins: (153, 8696), Predicted: 0.1625, Actual: 0.1625\n",
      "Proteins: (14563, 11703), Predicted: 0.1531, Actual: 0.1531\n",
      "Proteins: (5998, 9302), Predicted: 0.0836, Actual: 0.0836\n",
      "Proteins: (9058, 2211), Predicted: 0.0212, Actual: 0.0212\n"
     ]
    }
   ],
   "source": [
    "import numpy as np\n",
    "\n",
    "def get_top_interactions(loader, model, top_n=5):\n",
    "    model.eval()  \n",
    "    all_preds = []\n",
    "    all_labels = []\n",
    "    all_edges = []\n",
    "    \n",
    "    for data in loader:\n",
    "        with torch.no_grad():\n",
    "            out = model(data)  \n",
    "            all_preds.append(out)\n",
    "            all_labels.append(data.y)\n",
    "            all_edges.append(data.edge_index.T) \n",
    "\n",
    "    preds = torch.cat(all_preds, dim=0).cpu().numpy().flatten()\n",
    "    labels = torch.cat(all_labels, dim=0).cpu().numpy().flatten()\n",
    "    edges = torch.cat(all_edges, dim=0).cpu().numpy()\n",
    "\n",
    "    differences = np.abs(preds - labels)\n",
    "   \n",
    "    top_indices = np.argsort(differences)[:top_n]  \n",
    "    \n",
    "    print(\"Top Interactions (Protein1, Protein2) with Predicted and Actual Values:\")\n",
    "    for idx in top_indices:\n",
    "        protein1, protein2 = edges[idx]\n",
    "        print(f\"Proteins: ({protein1}, {protein2}), Predicted: {preds[idx]:.4f}, Actual: {labels[idx]:.4f}\")\n",
    "\n",
    "get_top_interactions(test_loader, model, top_n=5)\n"
   ]
  }
 ],
 "metadata": {
  "kernelspec": {
   "display_name": "Python 3",
   "language": "python",
   "name": "python3"
  },
  "language_info": {
   "codemirror_mode": {
    "name": "ipython",
    "version": 3
   },
   "file_extension": ".py",
   "mimetype": "text/x-python",
   "name": "python",
   "nbconvert_exporter": "python",
   "pygments_lexer": "ipython3",
   "version": "3.12.7"
  }
 },
 "nbformat": 4,
 "nbformat_minor": 5
}
